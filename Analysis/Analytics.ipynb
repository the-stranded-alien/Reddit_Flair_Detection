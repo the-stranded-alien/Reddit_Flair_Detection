{
 "cells": [
  {
   "cell_type": "code",
   "execution_count": 1,
   "metadata": {},
   "outputs": [],
   "source": [
    "import pandas as pd\n",
    "import numpy as np\n",
    "import matplotlib.pyplot as plt"
   ]
  },
  {
   "cell_type": "markdown",
   "metadata": {},
   "source": [
    "### Making Data-Frame"
   ]
  },
  {
   "cell_type": "code",
   "execution_count": 2,
   "metadata": {},
   "outputs": [],
   "source": [
    "df = pd.read_csv(\"reddit_data.csv\")"
   ]
  },
  {
   "cell_type": "code",
   "execution_count": 3,
   "metadata": {},
   "outputs": [
    {
     "name": "stdout",
     "output_type": "stream",
     "text": [
      "<class 'pandas.core.frame.DataFrame'>\n",
      "RangeIndex: 2576 entries, 0 to 2575\n",
      "Data columns (total 10 columns):\n",
      "title        2576 non-null object\n",
      "score        2576 non-null int64\n",
      "id           2576 non-null object\n",
      "url          2576 non-null object\n",
      "comms_num    2576 non-null int64\n",
      "body         1405 non-null object\n",
      "author       2576 non-null object\n",
      "comments     2440 non-null object\n",
      "timestamp    2576 non-null object\n",
      "flair        2576 non-null object\n",
      "dtypes: int64(2), object(8)\n",
      "memory usage: 201.3+ KB\n"
     ]
    }
   ],
   "source": [
    "df.info()"
   ]
  },
  {
   "cell_type": "code",
   "execution_count": 10,
   "metadata": {},
   "outputs": [
    {
     "name": "stdout",
     "output_type": "stream",
     "text": [
      "['AMA' 'AskIndia' 'Business/Finance' 'Entertainment' 'Food'\n",
      " 'Non-political' 'Photography' 'Policy/Economy' 'Political' 'Reddiquette'\n",
      " 'Science/Technology' 'Sports']\n"
     ]
    }
   ],
   "source": [
    "flairs = np.array(df[\"flair\"])\n",
    "print(np.unique(flairs))"
   ]
  },
  {
   "cell_type": "markdown",
   "metadata": {},
   "source": [
    "#### Finding Number Of Posts For Each Flair Category"
   ]
  },
  {
   "cell_type": "code",
   "execution_count": 12,
   "metadata": {},
   "outputs": [
    {
     "name": "stdout",
     "output_type": "stream",
     "text": [
      " 1. Political Flairs            :   248\n",
      " 2. Non-Political Flairs        :   218\n",
      " 3. Reddiquette Flairs          :   100\n",
      " 4. Ask India Flairs            :   224\n",
      " 5. Science & Technology Flairs :   223\n",
      " 6. Policy & Economy Flairs     :   222\n",
      " 7. Finance & Business Flairs   :   213\n",
      " 8. Sports Flairs               :   234\n",
      " 9. Food Flairs                 :   243\n",
      "10. Photography Flairs          :   220\n",
      "11. AMA Flairs                  :   211\n",
      "12. Entertainment Flairs        :   220\n"
     ]
    }
   ],
   "source": [
    "print(\" 1. Political Flairs            :  \", np.sum(df[\"flair\"] == \"Political\"))\n",
    "print(\" 2. Non-Political Flairs        :  \", np.sum(df[\"flair\"] == \"Non-political\"))\n",
    "print(\" 3. Reddiquette Flairs          :  \", np.sum(df[\"flair\"] == \"Reddiquette\"))\n",
    "print(\" 4. Ask India Flairs            :  \", np.sum(df[\"flair\"] == \"AskIndia\"))\n",
    "print(\" 5. Science & Technology Flairs :  \", np.sum(df[\"flair\"] == \"Science/Technology\"))\n",
    "print(\" 6. Policy & Economy Flairs     :  \", np.sum(df[\"flair\"] == \"Policy/Economy\"))\n",
    "print(\" 7. Finance & Business Flairs   :  \", np.sum(df[\"flair\"] == \"Business/Finance\"))\n",
    "print(\" 8. Sports Flairs               :  \", np.sum(df[\"flair\"] == \"Sports\"))\n",
    "print(\" 9. Food Flairs                 :  \", np.sum(df[\"flair\"] == \"Food\"))\n",
    "print(\"10. Photography Flairs          :  \", np.sum(df[\"flair\"] == \"Photography\"))\n",
    "print(\"11. AMA Flairs                  :  \", np.sum(df[\"flair\"] == \"AMA\"))\n",
    "print(\"12. Entertainment Flairs        :  \", np.sum(df[\"flair\"] == \"Entertainment\"))"
   ]
  },
  {
   "cell_type": "markdown",
   "metadata": {},
   "source": [
    "### Comments"
   ]
  },
  {
   "cell_type": "code",
   "execution_count": 20,
   "metadata": {},
   "outputs": [
    {
     "name": "stdout",
     "output_type": "stream",
     "text": [
      "Total :  12164\n",
      "Average :  49.04838709677419\n"
     ]
    }
   ],
   "source": [
    "# Political\n",
    "comm_political = 0\n",
    "for i in range(2576):\n",
    "    if df[\"flair\"][i] == \"Political\":\n",
    "        comm_political += df[\"comms_num\"][i]\n",
    "print(\"Total : \", comm_political)\n",
    "print(\"Average : \", comm_political/248)"
   ]
  },
  {
   "cell_type": "code",
   "execution_count": 21,
   "metadata": {},
   "outputs": [
    {
     "name": "stdout",
     "output_type": "stream",
     "text": [
      "Total :  3921\n",
      "Average :  17.986238532110093\n"
     ]
    }
   ],
   "source": [
    "# Non-Political\n",
    "comm_non_political = 0\n",
    "for i in range(2576):\n",
    "    if df[\"flair\"][i] == \"Non-political\":\n",
    "        comm_non_political += df[\"comms_num\"][i]\n",
    "print(\"Total : \", comm_non_political)\n",
    "print(\"Average : \", comm_non_political/218)"
   ]
  },
  {
   "cell_type": "code",
   "execution_count": 22,
   "metadata": {},
   "outputs": [
    {
     "name": "stdout",
     "output_type": "stream",
     "text": [
      "Total :  6868\n",
      "Average :  68.68\n"
     ]
    }
   ],
   "source": [
    "# Reddiquette\n",
    "comm_reddiquette = 0\n",
    "for i in range(2576):\n",
    "    if df[\"flair\"][i] == \"Reddiquette\":\n",
    "        comm_reddiquette += df[\"comms_num\"][i]\n",
    "print(\"Total : \", comm_reddiquette)\n",
    "print(\"Average : \", comm_reddiquette/100)"
   ]
  },
  {
   "cell_type": "code",
   "execution_count": 23,
   "metadata": {},
   "outputs": [
    {
     "name": "stdout",
     "output_type": "stream",
     "text": [
      "Total :  8473\n",
      "Average :  37.825892857142854\n"
     ]
    }
   ],
   "source": [
    "# Ask India\n",
    "comm_askIndia = 0\n",
    "for i in range(2576):\n",
    "    if df[\"flair\"][i] == \"AskIndia\":\n",
    "        comm_askIndia += df[\"comms_num\"][i]\n",
    "print(\"Total : \", comm_askIndia)\n",
    "print(\"Average : \", comm_askIndia/224)"
   ]
  },
  {
   "cell_type": "code",
   "execution_count": 24,
   "metadata": {},
   "outputs": [
    {
     "name": "stdout",
     "output_type": "stream",
     "text": [
      "Total :  6874\n",
      "Average :  30.82511210762332\n"
     ]
    }
   ],
   "source": [
    "# Sci/Tech\n",
    "comm_scitech = 0\n",
    "for i in range(2576):\n",
    "    if df[\"flair\"][i] == \"Science/Technology\":\n",
    "        comm_scitech += df[\"comms_num\"][i]\n",
    "print(\"Total : \", comm_scitech)\n",
    "print(\"Average : \", comm_scitech/223)"
   ]
  },
  {
   "cell_type": "code",
   "execution_count": 26,
   "metadata": {},
   "outputs": [
    {
     "name": "stdout",
     "output_type": "stream",
     "text": [
      "Total :  7877\n",
      "Average :  35.48198198198198\n"
     ]
    }
   ],
   "source": [
    "# Policy/Eco.\n",
    "comm_poleco = 0\n",
    "for i in range(2576):\n",
    "    if df[\"flair\"][i] == \"Policy/Economy\":\n",
    "        comm_poleco += df[\"comms_num\"][i]\n",
    "print(\"Total : \", comm_poleco)\n",
    "print(\"Average : \", comm_poleco/222)"
   ]
  },
  {
   "cell_type": "code",
   "execution_count": 27,
   "metadata": {},
   "outputs": [
    {
     "name": "stdout",
     "output_type": "stream",
     "text": [
      "Total :  6248\n",
      "Average :  29.333333333333332\n"
     ]
    }
   ],
   "source": [
    "# Fin/Biz.\n",
    "comm_fin = 0\n",
    "for i in range(2576):\n",
    "    if df[\"flair\"][i] == \"Business/Finance\":\n",
    "        comm_fin += df[\"comms_num\"][i]\n",
    "print(\"Total : \", comm_fin)\n",
    "print(\"Average : \", comm_fin/213)"
   ]
  },
  {
   "cell_type": "code",
   "execution_count": 28,
   "metadata": {},
   "outputs": [
    {
     "name": "stdout",
     "output_type": "stream",
     "text": [
      "Total :  10736\n",
      "Average :  45.88034188034188\n"
     ]
    }
   ],
   "source": [
    "# Sports\n",
    "comm_sports = 0\n",
    "for i in range(2576):\n",
    "    if df[\"flair\"][i] == \"Sports\":\n",
    "        comm_sports += df[\"comms_num\"][i]\n",
    "print(\"Total : \", comm_sports)\n",
    "print(\"Average : \", comm_sports/234)"
   ]
  },
  {
   "cell_type": "code",
   "execution_count": 29,
   "metadata": {},
   "outputs": [
    {
     "name": "stdout",
     "output_type": "stream",
     "text": [
      "Total :  12769\n",
      "Average :  52.547325102880656\n"
     ]
    }
   ],
   "source": [
    "# Food\n",
    "comm_food = 0\n",
    "for i in range(2576):\n",
    "    if df[\"flair\"][i] == \"Food\":\n",
    "        comm_food += df[\"comms_num\"][i]\n",
    "print(\"Total : \", comm_food)\n",
    "print(\"Average : \", comm_food/243)"
   ]
  },
  {
   "cell_type": "code",
   "execution_count": 31,
   "metadata": {},
   "outputs": [
    {
     "name": "stdout",
     "output_type": "stream",
     "text": [
      "Total :  5773\n",
      "Average :  26.240909090909092\n"
     ]
    }
   ],
   "source": [
    "# Photo\n",
    "comm_photo = 0\n",
    "for i in range(2576):\n",
    "    if df[\"flair\"][i] == \"Photography\":\n",
    "        comm_photo += df[\"comms_num\"][i]\n",
    "print(\"Total : \", comm_photo)\n",
    "print(\"Average : \", comm_photo/220)"
   ]
  },
  {
   "cell_type": "code",
   "execution_count": 32,
   "metadata": {},
   "outputs": [
    {
     "name": "stdout",
     "output_type": "stream",
     "text": [
      "Total :  18719\n",
      "Average :  88.71563981042654\n"
     ]
    }
   ],
   "source": [
    "# AMA\n",
    "comm_ama = 0\n",
    "for i in range(2576):\n",
    "    if df[\"flair\"][i] == \"AMA\":\n",
    "        comm_ama += df[\"comms_num\"][i]\n",
    "print(\"Total : \", comm_ama)\n",
    "print(\"Average : \", comm_ama/211)"
   ]
  },
  {
   "cell_type": "code",
   "execution_count": 33,
   "metadata": {},
   "outputs": [
    {
     "name": "stdout",
     "output_type": "stream",
     "text": [
      "Total :  5357\n",
      "Average :  24.35\n"
     ]
    }
   ],
   "source": [
    "# Entertainment\n",
    "comm_ent = 0\n",
    "for i in range(2576):\n",
    "    if df[\"flair\"][i] == \"Entertainment\":\n",
    "        comm_ent += df[\"comms_num\"][i]\n",
    "print(\"Total : \", comm_ent)\n",
    "print(\"Average : \", comm_ent/220)"
   ]
  },
  {
   "cell_type": "markdown",
   "metadata": {},
   "source": [
    "### Scores"
   ]
  },
  {
   "cell_type": "code",
   "execution_count": 34,
   "metadata": {},
   "outputs": [],
   "source": [
    "def score(flair, count):\n",
    "    score = 0\n",
    "    for i in range(2576):\n",
    "        if df[\"flair\"][i] == flair:\n",
    "            score += df[\"score\"][i]\n",
    "    return score, score/count"
   ]
  },
  {
   "cell_type": "code",
   "execution_count": 36,
   "metadata": {},
   "outputs": [
    {
     "name": "stdout",
     "output_type": "stream",
     "text": [
      "(50420, 203.30645161290323)\n",
      "(10167, 46.637614678899084)\n",
      "(3727, 37.27)\n",
      "(7822, 34.919642857142854)\n",
      "(13056, 58.54708520179372)\n",
      "(15556, 70.07207207207207)\n",
      "(13462, 63.201877934272304)\n",
      "(64040, 273.6752136752137)\n",
      "(57730, 237.57201646090536)\n",
      "(19386, 88.11818181818182)\n",
      "(31320, 148.43601895734596)\n",
      "(11461, 52.095454545454544)\n"
     ]
    }
   ],
   "source": [
    "print(score(\"Political\", 248))\n",
    "print(score(\"Non-political\", 218))\n",
    "print(score(\"Reddiquette\", 100))\n",
    "print(score(\"AskIndia\", 224))\n",
    "print(score(\"Science/Technology\", 223))\n",
    "print(score(\"Policy/Economy\", 222))\n",
    "print(score(\"Business/Finance\", 213))\n",
    "print(score(\"Sports\", 234))\n",
    "print(score(\"Food\", 243))\n",
    "print(score(\"Photography\", 220))\n",
    "print(score(\"AMA\", 211))\n",
    "print(score(\"Entertainment\", 220))"
   ]
  },
  {
   "cell_type": "markdown",
   "metadata": {},
   "source": [
    "### Time Of Day"
   ]
  },
  {
   "cell_type": "code",
   "execution_count": 52,
   "metadata": {},
   "outputs": [],
   "source": [
    "def time(flair):\n",
    "    category_0_5 = 0\n",
    "    category_6_11 = 0\n",
    "    category_12_17 = 0\n",
    "    category_18_23 = 0\n",
    "    for i in range(2576):\n",
    "        if df[\"flair\"][i] == flair:\n",
    "            hour = int(df[\"timestamp\"][i].split(\" \")[1][0:2])\n",
    "            if hour >= 0 and hour <= 5:\n",
    "                category_0_5 += 1\n",
    "            if hour >= 6 and hour <= 11:\n",
    "                category_6_11 += 1\n",
    "            if hour >= 12 and hour <= 17:\n",
    "                category_12_17 += 1\n",
    "            if hour >= 18 and hour <= 23:\n",
    "                category_18_23 +=1\n",
    "    time = [category_0_5, category_6_11, category_12_17, category_18_23]\n",
    "    print(\"Flair : \" + flair)\n",
    "    print(\"Time Of Day : \", time)"
   ]
  },
  {
   "cell_type": "code",
   "execution_count": 53,
   "metadata": {},
   "outputs": [
    {
     "name": "stdout",
     "output_type": "stream",
     "text": [
      "Flair : Political\n",
      "Time Of Day :  [32, 52, 99, 65]\n"
     ]
    }
   ],
   "source": [
    "time(\"Political\")"
   ]
  },
  {
   "cell_type": "code",
   "execution_count": 54,
   "metadata": {},
   "outputs": [
    {
     "name": "stdout",
     "output_type": "stream",
     "text": [
      "Flair : Non-political\n",
      "Time Of Day :  [59, 29, 82, 48]\n"
     ]
    }
   ],
   "source": [
    "time(\"Non-political\")"
   ]
  },
  {
   "cell_type": "code",
   "execution_count": 55,
   "metadata": {},
   "outputs": [
    {
     "name": "stdout",
     "output_type": "stream",
     "text": [
      "Flair : Reddiquette\n",
      "Time Of Day :  [18, 22, 34, 26]\n"
     ]
    }
   ],
   "source": [
    "time(\"Reddiquette\")"
   ]
  },
  {
   "cell_type": "code",
   "execution_count": 56,
   "metadata": {},
   "outputs": [
    {
     "name": "stdout",
     "output_type": "stream",
     "text": [
      "Flair : AskIndia\n",
      "Time Of Day :  [46, 21, 75, 82]\n"
     ]
    }
   ],
   "source": [
    "time(\"AskIndia\")"
   ]
  },
  {
   "cell_type": "code",
   "execution_count": 57,
   "metadata": {},
   "outputs": [
    {
     "name": "stdout",
     "output_type": "stream",
     "text": [
      "Flair : Science/Technology\n",
      "Time Of Day :  [45, 32, 78, 68]\n"
     ]
    }
   ],
   "source": [
    "time(\"Science/Technology\")"
   ]
  },
  {
   "cell_type": "code",
   "execution_count": 58,
   "metadata": {},
   "outputs": [
    {
     "name": "stdout",
     "output_type": "stream",
     "text": [
      "Flair : Policy/Economy\n",
      "Time Of Day :  [35, 30, 102, 55]\n"
     ]
    }
   ],
   "source": [
    "time(\"Policy/Economy\")"
   ]
  },
  {
   "cell_type": "code",
   "execution_count": 59,
   "metadata": {},
   "outputs": [
    {
     "name": "stdout",
     "output_type": "stream",
     "text": [
      "Flair : Business/Finance\n",
      "Time Of Day :  [23, 37, 91, 62]\n"
     ]
    }
   ],
   "source": [
    "time(\"Business/Finance\")"
   ]
  },
  {
   "cell_type": "code",
   "execution_count": 60,
   "metadata": {},
   "outputs": [
    {
     "name": "stdout",
     "output_type": "stream",
     "text": [
      "Flair : Sports\n",
      "Time Of Day :  [30, 29, 88, 87]\n"
     ]
    }
   ],
   "source": [
    "time(\"Sports\")"
   ]
  },
  {
   "cell_type": "code",
   "execution_count": 61,
   "metadata": {},
   "outputs": [
    {
     "name": "stdout",
     "output_type": "stream",
     "text": [
      "Flair : Food\n",
      "Time Of Day :  [37, 30, 90, 86]\n"
     ]
    }
   ],
   "source": [
    "time(\"Food\")"
   ]
  },
  {
   "cell_type": "code",
   "execution_count": 62,
   "metadata": {},
   "outputs": [
    {
     "name": "stdout",
     "output_type": "stream",
     "text": [
      "Flair : Photography\n",
      "Time Of Day :  [58, 23, 74, 65]\n"
     ]
    }
   ],
   "source": [
    "time(\"Photography\")"
   ]
  },
  {
   "cell_type": "code",
   "execution_count": 63,
   "metadata": {},
   "outputs": [
    {
     "name": "stdout",
     "output_type": "stream",
     "text": [
      "Flair : AMA\n",
      "Time Of Day :  [37, 16, 65, 93]\n"
     ]
    }
   ],
   "source": [
    "time(\"AMA\")"
   ]
  },
  {
   "cell_type": "code",
   "execution_count": 64,
   "metadata": {},
   "outputs": [
    {
     "name": "stdout",
     "output_type": "stream",
     "text": [
      "Flair : Entertainment\n",
      "Time Of Day :  [49, 15, 73, 83]\n"
     ]
    }
   ],
   "source": [
    "time(\"Entertainment\")"
   ]
  }
 ],
 "metadata": {
  "kernelspec": {
   "display_name": "Python 3",
   "language": "python",
   "name": "python3"
  },
  "language_info": {
   "codemirror_mode": {
    "name": "ipython",
    "version": 3
   },
   "file_extension": ".py",
   "mimetype": "text/x-python",
   "name": "python",
   "nbconvert_exporter": "python",
   "pygments_lexer": "ipython3",
   "version": "3.7.1"
  }
 },
 "nbformat": 4,
 "nbformat_minor": 2
}
