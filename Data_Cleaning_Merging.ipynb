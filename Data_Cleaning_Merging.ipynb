{
 "cells": [
  {
   "cell_type": "code",
   "execution_count": 14,
   "metadata": {},
   "outputs": [],
   "source": [
    "import pandas as pd\n",
    "import numpy as np\n",
    "import nltk\n",
    "from nltk.corpus import stopwords\n",
    "import re"
   ]
  },
  {
   "cell_type": "code",
   "execution_count": 15,
   "metadata": {},
   "outputs": [],
   "source": [
    "political = pd.read_csv(\"Raw_Data/reddit-india-Political.csv\")\n",
    "non_political = pd.read_csv(\"Raw_Data/reddit-india-Non-political.csv\")\n",
    "ask_India = pd.read_csv(\"Raw_Data/reddit-india-AskIndia.csv\")\n",
    "ama = pd.read_csv(\"Raw_Data/reddit-india-AMA.csv\")\n",
    "sports = pd.read_csv(\"Raw_Data/reddit-india-Sports.csv\")\n",
    "sci_tech = pd.read_csv(\"Raw_Data/reddit-india-SciTech.csv\")\n",
    "food = pd.read_csv(\"Raw_Data/reddit-india-Food.csv\")\n",
    "business_finance = pd.read_csv(\"Raw_Data/reddit-india-BusFin.csv\")\n",
    "entertainment = pd.read_csv(\"Raw_Data/reddit-india-Entertainment.csv\")\n",
    "photo = pd.read_csv(\"Raw_Data/reddit-india-Photo.csv\")\n",
    "policy_economic = pd.read_csv(\"Raw_Data/reddit-india-PolEco.csv\")\n",
    "reddiquette = pd.read_csv(\"Raw_Data/reddit-india-Redi.csv\")"
   ]
  },
  {
   "cell_type": "code",
   "execution_count": 136,
   "metadata": {},
   "outputs": [],
   "source": [
    "new_dict = { \"title\": [], \"score\": [], \"id\": [], \"url\": [], \"comms_num\": [], \"body\": [], \"author\": [], \"comments\": [],\"timestamp\":[], \"flair\": []}"
   ]
  },
  {
   "cell_type": "code",
   "execution_count": 137,
   "metadata": {},
   "outputs": [],
   "source": [
    "data = pd.concat([political, non_political, ask_India, ama, sports, sci_tech, food, business_finance, entertainment, photo, policy_economic, reddiquette])"
   ]
  },
  {
   "cell_type": "code",
   "execution_count": 138,
   "metadata": {},
   "outputs": [
    {
     "name": "stdout",
     "output_type": "stream",
     "text": [
      "<class 'pandas.core.frame.DataFrame'>\n",
      "Int64Index: 2576 entries, 0 to 99\n",
      "Data columns (total 10 columns):\n",
      "title        2576 non-null object\n",
      "score        2576 non-null int64\n",
      "id           2576 non-null object\n",
      "url          2576 non-null object\n",
      "comms_num    2576 non-null int64\n",
      "body         1406 non-null object\n",
      "author       2576 non-null object\n",
      "comments     2440 non-null object\n",
      "flair        2576 non-null object\n",
      "timestamp    2576 non-null object\n",
      "dtypes: int64(2), object(8)\n",
      "memory usage: 221.4+ KB\n"
     ]
    }
   ],
   "source": [
    "data.info()"
   ]
  },
  {
   "cell_type": "code",
   "execution_count": 139,
   "metadata": {},
   "outputs": [],
   "source": [
    "stop_words = set(stopwords.words('english'))"
   ]
  },
  {
   "cell_type": "code",
   "execution_count": 140,
   "metadata": {},
   "outputs": [],
   "source": [
    "def cleaner(sentence):\n",
    "    sentence = sentence.lower()\n",
    "    sentence = re.sub(\"[^0-9a-z #+_]\",\"\",sentence)\n",
    "    sentence = re.sub(\"[/(){}\\[\\]\\|@,;]\", \" \", sentence)\n",
    "    sentence = ' '.join(word for word in sentence.split() if word not in stop_words)\n",
    "    return sentence"
   ]
  },
  {
   "cell_type": "code",
   "execution_count": 141,
   "metadata": {},
   "outputs": [],
   "source": [
    "data_dict = dict(data)"
   ]
  },
  {
   "cell_type": "code",
   "execution_count": 142,
   "metadata": {},
   "outputs": [
    {
     "name": "stdout",
     "output_type": "stream",
     "text": [
      "<class 'dict'>\n"
     ]
    }
   ],
   "source": [
    "print(type(data_dict))"
   ]
  },
  {
   "cell_type": "code",
   "execution_count": 143,
   "metadata": {},
   "outputs": [],
   "source": [
    "for title in data_dict[\"title\"]:\n",
    "    new_dict[\"title\"].append(cleaner(title))"
   ]
  },
  {
   "cell_type": "code",
   "execution_count": 144,
   "metadata": {},
   "outputs": [
    {
     "data": {
      "text/plain": [
       "2576"
      ]
     },
     "execution_count": 144,
     "metadata": {},
     "output_type": "execute_result"
    }
   ],
   "source": [
    "len(new_dict[\"title\"])"
   ]
  },
  {
   "cell_type": "code",
   "execution_count": 145,
   "metadata": {},
   "outputs": [],
   "source": [
    "for sc in data_dict[\"score\"]:\n",
    "    new_dict[\"score\"].append(sc)"
   ]
  },
  {
   "cell_type": "code",
   "execution_count": 146,
   "metadata": {},
   "outputs": [
    {
     "data": {
      "text/plain": [
       "2576"
      ]
     },
     "execution_count": 146,
     "metadata": {},
     "output_type": "execute_result"
    }
   ],
   "source": [
    "len(new_dict[\"score\"])"
   ]
  },
  {
   "cell_type": "code",
   "execution_count": 147,
   "metadata": {},
   "outputs": [],
   "source": [
    "for i in data_dict[\"id\"]:\n",
    "    new_dict[\"id\"].append(i)"
   ]
  },
  {
   "cell_type": "code",
   "execution_count": 148,
   "metadata": {},
   "outputs": [
    {
     "data": {
      "text/plain": [
       "2576"
      ]
     },
     "execution_count": 148,
     "metadata": {},
     "output_type": "execute_result"
    }
   ],
   "source": [
    "len(new_dict[\"id\"])"
   ]
  },
  {
   "cell_type": "code",
   "execution_count": 149,
   "metadata": {},
   "outputs": [],
   "source": [
    "for url in data_dict[\"url\"]:\n",
    "    new_dict[\"url\"].append(url)"
   ]
  },
  {
   "cell_type": "code",
   "execution_count": 150,
   "metadata": {},
   "outputs": [
    {
     "data": {
      "text/plain": [
       "2576"
      ]
     },
     "execution_count": 150,
     "metadata": {},
     "output_type": "execute_result"
    }
   ],
   "source": [
    "len(new_dict[\"url\"])"
   ]
  },
  {
   "cell_type": "code",
   "execution_count": 151,
   "metadata": {},
   "outputs": [],
   "source": [
    "for cn in data_dict[\"comms_num\"]:\n",
    "    new_dict[\"comms_num\"].append(cn)"
   ]
  },
  {
   "cell_type": "code",
   "execution_count": 152,
   "metadata": {},
   "outputs": [
    {
     "data": {
      "text/plain": [
       "2576"
      ]
     },
     "execution_count": 152,
     "metadata": {},
     "output_type": "execute_result"
    }
   ],
   "source": [
    "len(new_dict[\"comms_num\"])"
   ]
  },
  {
   "cell_type": "code",
   "execution_count": 153,
   "metadata": {},
   "outputs": [],
   "source": [
    "for b in data_dict[\"body\"]:\n",
    "    new_dict[\"body\"].append(cleaner(str(b)))"
   ]
  },
  {
   "cell_type": "code",
   "execution_count": 154,
   "metadata": {},
   "outputs": [
    {
     "data": {
      "text/plain": [
       "2576"
      ]
     },
     "execution_count": 154,
     "metadata": {},
     "output_type": "execute_result"
    }
   ],
   "source": [
    "len(new_dict[\"body\"])"
   ]
  },
  {
   "cell_type": "code",
   "execution_count": 155,
   "metadata": {},
   "outputs": [],
   "source": [
    "for auth in data_dict[\"author\"]:\n",
    "    new_dict[\"author\"].append(cleaner(auth))"
   ]
  },
  {
   "cell_type": "code",
   "execution_count": 156,
   "metadata": {},
   "outputs": [],
   "source": [
    "for com in data_dict[\"comments\"]:\n",
    "    x = cleaner(str(com))\n",
    "    new_dict[\"comments\"].append(x)"
   ]
  },
  {
   "cell_type": "code",
   "execution_count": 157,
   "metadata": {},
   "outputs": [
    {
     "data": {
      "text/plain": [
       "2576"
      ]
     },
     "execution_count": 157,
     "metadata": {},
     "output_type": "execute_result"
    }
   ],
   "source": [
    "len(new_dict[\"author\"])"
   ]
  },
  {
   "cell_type": "code",
   "execution_count": 160,
   "metadata": {},
   "outputs": [
    {
     "data": {
      "text/plain": [
       "2576"
      ]
     },
     "execution_count": 160,
     "metadata": {},
     "output_type": "execute_result"
    }
   ],
   "source": [
    "len(new_dict[\"comments\"])"
   ]
  },
  {
   "cell_type": "code",
   "execution_count": 159,
   "metadata": {},
   "outputs": [
    {
     "data": {
      "text/plain": [
       "2576"
      ]
     },
     "execution_count": 159,
     "metadata": {},
     "output_type": "execute_result"
    }
   ],
   "source": [
    "len(data_dict[\"comments\"])"
   ]
  },
  {
   "cell_type": "code",
   "execution_count": 161,
   "metadata": {},
   "outputs": [],
   "source": [
    "for f in data_dict[\"flair\"]:\n",
    "    new_dict[\"flair\"].append(f)"
   ]
  },
  {
   "cell_type": "code",
   "execution_count": 163,
   "metadata": {},
   "outputs": [
    {
     "data": {
      "text/plain": [
       "2576"
      ]
     },
     "execution_count": 163,
     "metadata": {},
     "output_type": "execute_result"
    }
   ],
   "source": [
    "len(new_dict[\"flair\"])"
   ]
  },
  {
   "cell_type": "code",
   "execution_count": 166,
   "metadata": {},
   "outputs": [],
   "source": [
    "for ts in data_dict[\"timestamp\"]:\n",
    "    new_dict[\"timestamp\"].append(ts)"
   ]
  },
  {
   "cell_type": "code",
   "execution_count": 167,
   "metadata": {},
   "outputs": [],
   "source": [
    "combined_data = pd.DataFrame(new_dict)"
   ]
  },
  {
   "cell_type": "code",
   "execution_count": 168,
   "metadata": {},
   "outputs": [
    {
     "name": "stdout",
     "output_type": "stream",
     "text": [
      "<class 'pandas.core.frame.DataFrame'>\n",
      "RangeIndex: 2576 entries, 0 to 2575\n",
      "Data columns (total 10 columns):\n",
      "title        2576 non-null object\n",
      "score        2576 non-null int64\n",
      "id           2576 non-null object\n",
      "url          2576 non-null object\n",
      "comms_num    2576 non-null int64\n",
      "body         2576 non-null object\n",
      "author       2576 non-null object\n",
      "comments     2576 non-null object\n",
      "timestamp    2576 non-null object\n",
      "flair        2576 non-null object\n",
      "dtypes: int64(2), object(8)\n",
      "memory usage: 201.3+ KB\n"
     ]
    }
   ],
   "source": [
    "combined_data.info()"
   ]
  },
  {
   "cell_type": "code",
   "execution_count": 169,
   "metadata": {},
   "outputs": [],
   "source": [
    "combined_data.to_csv('reddit_data.csv', index=False) "
   ]
  },
  {
   "cell_type": "code",
   "execution_count": null,
   "metadata": {},
   "outputs": [],
   "source": []
  }
 ],
 "metadata": {
  "kernelspec": {
   "display_name": "Python 3",
   "language": "python",
   "name": "python3"
  },
  "language_info": {
   "codemirror_mode": {
    "name": "ipython",
    "version": 3
   },
   "file_extension": ".py",
   "mimetype": "text/x-python",
   "name": "python",
   "nbconvert_exporter": "python",
   "pygments_lexer": "ipython3",
   "version": "3.7.1"
  }
 },
 "nbformat": 4,
 "nbformat_minor": 2
}
