{
 "cells": [
  {
   "cell_type": "code",
   "execution_count": 1,
   "metadata": {},
   "outputs": [],
   "source": [
    "import pandas as pd\n",
    "import numpy as np\n",
    "import matplotlib.pyplot as plt\n",
    "import re\n",
    "from sklearn.model_selection import train_test_split"
   ]
  },
  {
   "cell_type": "code",
   "execution_count": 2,
   "metadata": {},
   "outputs": [],
   "source": [
    "data = pd.read_csv(\"../Clean_Data/reddit_data.csv\")\n",
    "def cleanURL(url):\n",
    "    url = url.replace(\"/\",\" \").replace(\".\",\" \").replace(\"_\", \" \").replace(\"-\", \" \")\n",
    "    url = re.sub(r\"[0-9]+\", \"\", url)\n",
    "    new_url = []\n",
    "    for u in (url.split()):\n",
    "        # print(u)\n",
    "        if u != \"reddit\" and u != \"comments\" and u != \"india\" and u != \"https:\" and u != \"http:\" and len(u) > 4 and u != \"www\" and u != \"com\":\n",
    "            new_url.append(u)\n",
    "    return \" \".join(new_url)"
   ]
  },
  {
   "cell_type": "code",
   "execution_count": 3,
   "metadata": {},
   "outputs": [],
   "source": [
    "cleaned_urls = []\n",
    "for t in data[\"url\"]:\n",
    "    cleaned_urls.append(cleanURL(t))"
   ]
  },
  {
   "cell_type": "code",
   "execution_count": 4,
   "metadata": {},
   "outputs": [],
   "source": [
    "X = []\n",
    "for i in range(2576):\n",
    "    f = str(data[\"title\"][i]) + str(data[\"comments\"][i]) + str(cleaned_urls[i])\n",
    "    X.append(f)\n",
    "X = np.array(X)"
   ]
  },
  {
   "cell_type": "code",
   "execution_count": 5,
   "metadata": {},
   "outputs": [],
   "source": [
    "MAX_WORDS = 10000\n",
    "MAX_LEN = 200\n",
    "EMBEDDING_DIM =50"
   ]
  },
  {
   "cell_type": "code",
   "execution_count": 6,
   "metadata": {},
   "outputs": [
    {
     "name": "stderr",
     "output_type": "stream",
     "text": [
      "Using TensorFlow backend.\n"
     ]
    }
   ],
   "source": [
    "from keras.preprocessing.text import Tokenizer\n",
    "from keras.preprocessing.sequence import pad_sequences\n",
    "tokenizer = Tokenizer(num_words = MAX_WORDS, lower=True)"
   ]
  },
  {
   "cell_type": "code",
   "execution_count": 7,
   "metadata": {},
   "outputs": [],
   "source": [
    "tokenizer.fit_on_texts(X)"
   ]
  },
  {
   "cell_type": "code",
   "execution_count": 8,
   "metadata": {},
   "outputs": [],
   "source": [
    "word_index = tokenizer.word_index"
   ]
  },
  {
   "cell_type": "code",
   "execution_count": 9,
   "metadata": {},
   "outputs": [
    {
     "data": {
      "text/plain": [
       "70186"
      ]
     },
     "execution_count": 9,
     "metadata": {},
     "output_type": "execute_result"
    }
   ],
   "source": [
    "len(word_index)"
   ]
  },
  {
   "cell_type": "code",
   "execution_count": 10,
   "metadata": {},
   "outputs": [
    {
     "name": "stdout",
     "output_type": "stream",
     "text": [
      "(2576, 200)\n"
     ]
    }
   ],
   "source": [
    "x = tokenizer.texts_to_sequences(X)\n",
    "x = pad_sequences(x, maxlen=MAX_LEN)\n",
    "print(x.shape)"
   ]
  },
  {
   "cell_type": "code",
   "execution_count": 11,
   "metadata": {},
   "outputs": [],
   "source": [
    "y = pd.get_dummies(data['flair']).values"
   ]
  },
  {
   "cell_type": "code",
   "execution_count": 12,
   "metadata": {},
   "outputs": [
    {
     "name": "stdout",
     "output_type": "stream",
     "text": [
      "(2576, 12)\n"
     ]
    }
   ],
   "source": [
    "print(y.shape)"
   ]
  },
  {
   "cell_type": "code",
   "execution_count": 13,
   "metadata": {},
   "outputs": [],
   "source": [
    "XT, Xt, YT, Yt = train_test_split(x,y,test_size=0.1,shuffle=True, random_state=42)"
   ]
  },
  {
   "cell_type": "code",
   "execution_count": 14,
   "metadata": {},
   "outputs": [
    {
     "name": "stdout",
     "output_type": "stream",
     "text": [
      "(2318, 200) (2318, 12)\n"
     ]
    }
   ],
   "source": [
    "print(XT.shape, YT.shape)"
   ]
  },
  {
   "cell_type": "code",
   "execution_count": 15,
   "metadata": {},
   "outputs": [
    {
     "name": "stdout",
     "output_type": "stream",
     "text": [
      "(258, 200) (258, 12)\n"
     ]
    }
   ],
   "source": [
    "print(Xt.shape, Yt.shape)"
   ]
  },
  {
   "cell_type": "code",
   "execution_count": 16,
   "metadata": {},
   "outputs": [],
   "source": [
    "from keras.models import Sequential\n",
    "from keras.layers import Embedding, SpatialDropout1D, LSTM, Dense"
   ]
  },
  {
   "cell_type": "code",
   "execution_count": 17,
   "metadata": {},
   "outputs": [
    {
     "name": "stdout",
     "output_type": "stream",
     "text": [
      "WARNING:tensorflow:From C:\\Users\\HP\\Anaconda3\\lib\\site-packages\\tensorflow\\python\\framework\\op_def_library.py:263: colocate_with (from tensorflow.python.framework.ops) is deprecated and will be removed in a future version.\n",
      "Instructions for updating:\n",
      "Colocations handled automatically by placer.\n",
      "WARNING:tensorflow:From C:\\Users\\HP\\Anaconda3\\lib\\site-packages\\keras\\backend\\tensorflow_backend.py:3445: calling dropout (from tensorflow.python.ops.nn_ops) with keep_prob is deprecated and will be removed in a future version.\n",
      "Instructions for updating:\n",
      "Please use `rate` instead of `keep_prob`. Rate should be set to `rate = 1 - keep_prob`.\n",
      "_________________________________________________________________\n",
      "Layer (type)                 Output Shape              Param #   \n",
      "=================================================================\n",
      "embedding_1 (Embedding)      (None, 200, 50)           500000    \n",
      "_________________________________________________________________\n",
      "spatial_dropout1d_1 (Spatial (None, 200, 50)           0         \n",
      "_________________________________________________________________\n",
      "lstm_1 (LSTM)                (None, 100)               60400     \n",
      "_________________________________________________________________\n",
      "dense_1 (Dense)              (None, 12)                1212      \n",
      "=================================================================\n",
      "Total params: 561,612\n",
      "Trainable params: 561,612\n",
      "Non-trainable params: 0\n",
      "_________________________________________________________________\n"
     ]
    }
   ],
   "source": [
    "model = Sequential()\n",
    "model.add(Embedding(MAX_WORDS, EMBEDDING_DIM, input_length=x.shape[1]))\n",
    "model.add(SpatialDropout1D(0.2))\n",
    "model.add(LSTM(100, dropout=0.2, recurrent_dropout=0.2))\n",
    "model.add(Dense(12, activation='softmax'))\n",
    "model.compile(loss='categorical_crossentropy', optimizer='adam', metrics=['accuracy'])\n",
    "model.summary()"
   ]
  },
  {
   "cell_type": "code",
   "execution_count": 18,
   "metadata": {},
   "outputs": [],
   "source": [
    "epochs = 40\n",
    "batch_size = 64"
   ]
  },
  {
   "cell_type": "code",
   "execution_count": 19,
   "metadata": {},
   "outputs": [
    {
     "name": "stdout",
     "output_type": "stream",
     "text": [
      "WARNING:tensorflow:From C:\\Users\\HP\\Anaconda3\\lib\\site-packages\\tensorflow\\python\\ops\\math_ops.py:3066: to_int32 (from tensorflow.python.ops.math_ops) is deprecated and will be removed in a future version.\n",
      "Instructions for updating:\n",
      "Use tf.cast instead.\n",
      "Train on 2086 samples, validate on 232 samples\n",
      "Epoch 1/40\n",
      "2086/2086 [==============================] - 7s 3ms/step - loss: 2.4743 - acc: 0.1083 - val_loss: 2.4640 - val_acc: 0.0991\n",
      "Epoch 2/40\n",
      "2086/2086 [==============================] - 6s 3ms/step - loss: 2.4215 - acc: 0.1572 - val_loss: 2.4154 - val_acc: 0.1509\n",
      "Epoch 3/40\n",
      "2086/2086 [==============================] - 6s 3ms/step - loss: 2.2808 - acc: 0.2675 - val_loss: 2.2854 - val_acc: 0.1595\n",
      "Epoch 4/40\n",
      "2086/2086 [==============================] - 7s 3ms/step - loss: 1.9793 - acc: 0.3686 - val_loss: 2.1438 - val_acc: 0.2629\n",
      "Epoch 5/40\n",
      "2086/2086 [==============================] - 7s 3ms/step - loss: 1.6182 - acc: 0.5139 - val_loss: 1.9762 - val_acc: 0.3664\n",
      "Epoch 6/40\n",
      "2086/2086 [==============================] - 7s 3ms/step - loss: 1.2034 - acc: 0.6352 - val_loss: 1.9086 - val_acc: 0.4009\n",
      "Epoch 7/40\n",
      "2086/2086 [==============================] - 7s 3ms/step - loss: 0.9646 - acc: 0.7330 - val_loss: 1.8961 - val_acc: 0.4224\n",
      "Epoch 8/40\n",
      "2086/2086 [==============================] - 7s 3ms/step - loss: 0.7255 - acc: 0.7943 - val_loss: 1.9093 - val_acc: 0.4698\n",
      "Epoch 9/40\n",
      "2086/2086 [==============================] - 7s 3ms/step - loss: 0.5844 - acc: 0.8447 - val_loss: 1.9301 - val_acc: 0.4224\n",
      "Epoch 10/40\n",
      "2086/2086 [==============================] - 7s 3ms/step - loss: 0.4490 - acc: 0.8811 - val_loss: 1.9303 - val_acc: 0.4526\n",
      "Epoch 11/40\n",
      "2086/2086 [==============================] - 7s 3ms/step - loss: 0.3548 - acc: 0.9142 - val_loss: 1.9925 - val_acc: 0.4310\n",
      "Epoch 12/40\n",
      "2086/2086 [==============================] - 7s 3ms/step - loss: 0.3274 - acc: 0.9175 - val_loss: 2.0651 - val_acc: 0.4181\n",
      "Epoch 13/40\n",
      "2086/2086 [==============================] - 7s 3ms/step - loss: 0.2655 - acc: 0.9372 - val_loss: 2.0405 - val_acc: 0.4310\n",
      "Epoch 14/40\n",
      "2086/2086 [==============================] - 7s 3ms/step - loss: 0.1992 - acc: 0.9506 - val_loss: 2.0797 - val_acc: 0.4483\n",
      "Epoch 15/40\n",
      "2086/2086 [==============================] - 7s 3ms/step - loss: 0.1574 - acc: 0.9612 - val_loss: 2.1584 - val_acc: 0.4224\n",
      "Epoch 16/40\n",
      "2086/2086 [==============================] - 7s 3ms/step - loss: 0.1483 - acc: 0.9640 - val_loss: 2.1826 - val_acc: 0.4397\n",
      "Epoch 17/40\n",
      "2086/2086 [==============================] - 7s 3ms/step - loss: 0.1290 - acc: 0.9708 - val_loss: 2.2957 - val_acc: 0.4483\n",
      "Epoch 18/40\n",
      "2086/2086 [==============================] - 8s 4ms/step - loss: 0.1317 - acc: 0.9640 - val_loss: 2.2391 - val_acc: 0.4267\n",
      "Epoch 19/40\n",
      "2086/2086 [==============================] - 7s 3ms/step - loss: 0.1171 - acc: 0.9669 - val_loss: 2.2586 - val_acc: 0.4310\n",
      "Epoch 20/40\n",
      "2086/2086 [==============================] - 7s 3ms/step - loss: 0.1147 - acc: 0.9693 - val_loss: 2.3075 - val_acc: 0.4095\n",
      "Epoch 21/40\n",
      "2086/2086 [==============================] - 7s 3ms/step - loss: 0.1022 - acc: 0.9674 - val_loss: 2.2960 - val_acc: 0.4353\n",
      "Epoch 22/40\n",
      "2086/2086 [==============================] - 7s 3ms/step - loss: 0.1024 - acc: 0.9669 - val_loss: 2.3432 - val_acc: 0.4353\n",
      "Epoch 23/40\n",
      "2086/2086 [==============================] - 8s 4ms/step - loss: 0.0815 - acc: 0.9751 - val_loss: 2.3895 - val_acc: 0.4353\n",
      "Epoch 24/40\n",
      "2086/2086 [==============================] - 7s 3ms/step - loss: 0.0987 - acc: 0.9655 - val_loss: 2.3497 - val_acc: 0.4267\n",
      "Epoch 25/40\n",
      "2086/2086 [==============================] - 7s 3ms/step - loss: 0.0850 - acc: 0.9736 - val_loss: 2.5018 - val_acc: 0.4181\n",
      "Epoch 26/40\n",
      "2086/2086 [==============================] - 7s 3ms/step - loss: 0.0813 - acc: 0.9751 - val_loss: 2.4313 - val_acc: 0.4353\n",
      "Epoch 27/40\n",
      "2086/2086 [==============================] - 7s 3ms/step - loss: 0.0821 - acc: 0.9732 - val_loss: 2.4110 - val_acc: 0.4267\n",
      "Epoch 28/40\n",
      "2086/2086 [==============================] - 7s 3ms/step - loss: 0.0801 - acc: 0.9712 - val_loss: 2.4008 - val_acc: 0.4526\n",
      "Epoch 29/40\n",
      "2086/2086 [==============================] - 7s 3ms/step - loss: 0.0759 - acc: 0.9736 - val_loss: 2.4518 - val_acc: 0.4267\n",
      "Epoch 30/40\n",
      "2086/2086 [==============================] - 7s 3ms/step - loss: 0.0770 - acc: 0.9736 - val_loss: 2.4572 - val_acc: 0.4353\n",
      "Epoch 31/40\n",
      "2086/2086 [==============================] - 7s 3ms/step - loss: 0.0705 - acc: 0.9760 - val_loss: 2.5065 - val_acc: 0.4310\n",
      "Epoch 32/40\n",
      "2086/2086 [==============================] - 7s 3ms/step - loss: 0.0662 - acc: 0.9760 - val_loss: 2.4219 - val_acc: 0.4310\n",
      "Epoch 33/40\n",
      "2086/2086 [==============================] - 7s 3ms/step - loss: 0.0666 - acc: 0.9746 - val_loss: 2.5740 - val_acc: 0.4310\n",
      "Epoch 34/40\n",
      "2086/2086 [==============================] - 7s 3ms/step - loss: 0.0822 - acc: 0.9703 - val_loss: 2.3622 - val_acc: 0.4353\n",
      "Epoch 35/40\n",
      "2086/2086 [==============================] - 7s 3ms/step - loss: 0.0754 - acc: 0.9746 - val_loss: 2.4718 - val_acc: 0.4310\n",
      "Epoch 36/40\n",
      "2086/2086 [==============================] - 7s 3ms/step - loss: 0.0723 - acc: 0.9722 - val_loss: 2.4916 - val_acc: 0.4440\n",
      "Epoch 37/40\n",
      "2086/2086 [==============================] - 7s 3ms/step - loss: 0.0656 - acc: 0.9760 - val_loss: 2.5116 - val_acc: 0.4310\n",
      "Epoch 38/40\n",
      "2086/2086 [==============================] - 7s 3ms/step - loss: 0.0648 - acc: 0.9722 - val_loss: 2.5830 - val_acc: 0.4440\n",
      "Epoch 39/40\n",
      "2086/2086 [==============================] - 7s 3ms/step - loss: 0.0596 - acc: 0.9779 - val_loss: 2.5847 - val_acc: 0.4224\n",
      "Epoch 40/40\n",
      "2086/2086 [==============================] - 7s 3ms/step - loss: 0.0664 - acc: 0.9736 - val_loss: 2.5945 - val_acc: 0.4138\n"
     ]
    }
   ],
   "source": [
    "history = model.fit(XT, YT, epochs=epochs, batch_size=batch_size, validation_split=0.1)"
   ]
  },
  {
   "cell_type": "code",
   "execution_count": 20,
   "metadata": {},
   "outputs": [
    {
     "name": "stdout",
     "output_type": "stream",
     "text": [
      "258/258 [==============================] - 0s 1ms/step\n"
     ]
    }
   ],
   "source": [
    "accr = model.evaluate(Xt, Yt)"
   ]
  },
  {
   "cell_type": "code",
   "execution_count": 21,
   "metadata": {},
   "outputs": [
    {
     "name": "stdout",
     "output_type": "stream",
     "text": [
      "Accuracy :  0.42248062015503873\n"
     ]
    }
   ],
   "source": [
    "print(\"Accuracy : \" , accr[1])"
   ]
  }
 ],
 "metadata": {
  "kernelspec": {
   "display_name": "Python 3",
   "language": "python",
   "name": "python3"
  },
  "language_info": {
   "codemirror_mode": {
    "name": "ipython",
    "version": 3
   },
   "file_extension": ".py",
   "mimetype": "text/x-python",
   "name": "python",
   "nbconvert_exporter": "python",
   "pygments_lexer": "ipython3",
   "version": "3.7.1"
  }
 },
 "nbformat": 4,
 "nbformat_minor": 2
}
