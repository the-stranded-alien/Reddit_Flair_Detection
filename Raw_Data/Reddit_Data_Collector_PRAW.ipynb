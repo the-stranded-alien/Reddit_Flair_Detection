{
  "nbformat": 4,
  "nbformat_minor": 0,
  "metadata": {
    "colab": {
      "name": "Reddit_Data_Collector_PRAW.ipynb",
      "version": "0.3.2",
      "provenance": [],
      "collapsed_sections": []
    },
    "kernelspec": {
      "name": "python3",
      "display_name": "Python 3"
    }
  },
  "cells": [
    {
      "cell_type": "code",
      "metadata": {
        "id": "40D2em3lbv84",
        "colab_type": "code",
        "outputId": "b87eadf8-426d-443d-fd27-eba82fbeea14",
        "colab": {
          "base_uri": "https://localhost:8080/",
          "height": 207
        }
      },
      "source": [
        "!pip install praw\n",
        "import praw\n",
        "import matplotlib.pyplot as plt\n",
        "import pandas as pd\n",
        "import datetime as dt\n",
        "import numpy as np"
      ],
      "execution_count": 1,
      "outputs": [
        {
          "output_type": "stream",
          "text": [
            "Requirement already satisfied: praw in /usr/local/lib/python3.6/dist-packages (6.3.1)\n",
            "Requirement already satisfied: websocket-client>=0.54.0 in /usr/local/lib/python3.6/dist-packages (from praw) (0.56.0)\n",
            "Requirement already satisfied: update-checker>=0.16 in /usr/local/lib/python3.6/dist-packages (from praw) (0.16)\n",
            "Requirement already satisfied: prawcore<2.0,>=1.0.1 in /usr/local/lib/python3.6/dist-packages (from praw) (1.0.1)\n",
            "Requirement already satisfied: six in /usr/local/lib/python3.6/dist-packages (from websocket-client>=0.54.0->praw) (1.12.0)\n",
            "Requirement already satisfied: requests>=2.3.0 in /usr/local/lib/python3.6/dist-packages (from update-checker>=0.16->praw) (2.21.0)\n",
            "Requirement already satisfied: idna<2.9,>=2.5 in /usr/local/lib/python3.6/dist-packages (from requests>=2.3.0->update-checker>=0.16->praw) (2.8)\n",
            "Requirement already satisfied: certifi>=2017.4.17 in /usr/local/lib/python3.6/dist-packages (from requests>=2.3.0->update-checker>=0.16->praw) (2019.6.16)\n",
            "Requirement already satisfied: chardet<3.1.0,>=3.0.2 in /usr/local/lib/python3.6/dist-packages (from requests>=2.3.0->update-checker>=0.16->praw) (3.0.4)\n",
            "Requirement already satisfied: urllib3<1.25,>=1.21.1 in /usr/local/lib/python3.6/dist-packages (from requests>=2.3.0->update-checker>=0.16->praw) (1.24.3)\n"
          ],
          "name": "stdout"
        }
      ]
    },
    {
      "cell_type": "code",
      "metadata": {
        "id": "cq2xSfYVcJl_",
        "colab_type": "code",
        "colab": {}
      },
      "source": [
        "reddit = praw.Reddit(client_id = '4olKQ-Up2BCKWQ', client_secret = 'sZsEDlw6NzhL3TpD95p1QMeH81E', user_agent = 'Sahil Gupta', username = 'the_stranded_alien', password = 'strandedalien')"
      ],
      "execution_count": 0,
      "outputs": []
    },
    {
      "cell_type": "code",
      "metadata": {
        "id": "M0r8v-IJcMYE",
        "colab_type": "code",
        "colab": {}
      },
      "source": [
        "subreddit = reddit.subreddit('india')"
      ],
      "execution_count": 0,
      "outputs": []
    },
    {
      "cell_type": "code",
      "metadata": {
        "id": "FqIcrS11cPn-",
        "colab_type": "code",
        "colab": {}
      },
      "source": [
        "topics_dict = { \"title\": [], \"score\": [], \"id\": [], \"url\": [], \"comms_num\": [], \"created\": [], \"body\": [], \"author\": [], \"comments\": [], \"flair\": []}"
      ],
      "execution_count": 0,
      "outputs": []
    },
    {
      "cell_type": "code",
      "metadata": {
        "id": "mzfO12hCcScr",
        "colab_type": "code",
        "colab": {}
      },
      "source": [
        "flairs = [\"Political\", \"Non-political\", \"Reddiquette\", \"AskIndia\", \"Entertainment\", \"Science/Technology\", \"Policy/Economy\", \"Business/Finance\", \"Photography\", \"Sports\", \"Food\", \"AMA\"]"
      ],
      "execution_count": 0,
      "outputs": []
    },
    {
      "cell_type": "code",
      "metadata": {
        "id": "khM7nj9HcX2F",
        "colab_type": "code",
        "outputId": "3368ee0b-5bd2-4a86-b81d-9273dfea144d",
        "colab": {
          "base_uri": "https://localhost:8080/",
          "height": 1000
        }
      },
      "source": [
        "get_subreddits = subreddit.search(\"Political\", limit=1000) # Change First Search Param as Other Flair Categories\n",
        "for subs in get_subreddits:\n",
        "  topics_dict[\"title\"].append(subs.title)\n",
        "  topics_dict[\"score\"].append(subs.score)\n",
        "  topics_dict[\"id\"].append(subs.id)\n",
        "  topics_dict[\"url\"].append(subs.url)\n",
        "  topics_dict[\"comms_num\"].append(subs.num_comments)\n",
        "  topics_dict[\"created\"].append(subs.created)\n",
        "  topics_dict[\"body\"].append(subs.selftext)\n",
        "  topics_dict[\"author\"].append(subs.author)\n",
        "  topics_dict[\"flair\"].append(\"Political\")\n",
        "    \n",
        "  print(\"Got : \", topics_dict[\"id\"][-1])\n",
        "     \n",
        "  subs.comments.replace_more(limit=None)\n",
        "  cmts = ''\n",
        "       \n",
        "  for top_cmts in subs.comments:\n",
        "    cmts = cmts + ' ' + top_cmts.body\n",
        "  topics_dict[\"comments\"].append(cmts)"
      ],
      "execution_count": 6,
      "outputs": [
        {
          "output_type": "stream",
          "text": [
            "Got :  d002d5\n",
            "Got :  d19wla\n",
            "Got :  d23ptm\n",
            "Got :  crifi9\n",
            "Got :  d22v3r\n",
            "Got :  d00pp9\n",
            "Got :  d0bdho\n",
            "Got :  d1aufm\n",
            "Got :  d1opmh\n",
            "Got :  cyj7gz\n",
            "Got :  cr63nx\n",
            "Got :  d245vk\n",
            "Got :  d1opcw\n",
            "Got :  cp8xyy\n",
            "Got :  cvlq5r\n",
            "Got :  cuvhon\n",
            "Got :  cpw5li\n",
            "Got :  d0wvij\n",
            "Got :  cvj5lu\n",
            "Got :  cnivs3\n",
            "Got :  cuuqfz\n",
            "Got :  cxc86c\n",
            "Got :  crllae\n",
            "Got :  cx1rq7\n",
            "Got :  cyp50s\n",
            "Got :  ctaumd\n",
            "Got :  ce7535\n",
            "Got :  cs70at\n",
            "Got :  d0h2t6\n",
            "Got :  cvkk50\n",
            "Got :  cjn390\n",
            "Got :  chxsaq\n",
            "Got :  cmbvdv\n",
            "Got :  cfeur8\n",
            "Got :  d23d94\n",
            "Got :  cv9mki\n",
            "Got :  cq3eog\n",
            "Got :  c8lydy\n",
            "Got :  csfw1h\n",
            "Got :  cwguzl\n",
            "Got :  czg3r0\n",
            "Got :  cxrio8\n",
            "Got :  cosltm\n",
            "Got :  d0tau4\n",
            "Got :  bvvre5\n",
            "Got :  cp8cj7\n",
            "Got :  coltas\n",
            "Got :  cqiq2e\n",
            "Got :  cz0686\n",
            "Got :  cxag4a\n",
            "Got :  cq87p6\n",
            "Got :  d1b00i\n",
            "Got :  cvkull\n",
            "Got :  cxrxkj\n",
            "Got :  cz9j6k\n",
            "Got :  cjorfa\n",
            "Got :  cxw6rl\n",
            "Got :  cdargd\n",
            "Got :  cv23xb\n",
            "Got :  bodxos\n",
            "Got :  buhqww\n",
            "Got :  c22c7k\n",
            "Got :  cl1bev\n",
            "Got :  ctum6a\n",
            "Got :  d1seyd\n",
            "Got :  cfwha5\n",
            "Got :  cu9687\n",
            "Got :  ch3kay\n",
            "Got :  ctdrsc\n",
            "Got :  bo1ao6\n",
            "Got :  cfw2bn\n",
            "Got :  c9sy71\n",
            "Got :  cyzq2q\n",
            "Got :  bxfujv\n",
            "Got :  d1cu4i\n",
            "Got :  ctqoiz\n",
            "Got :  cn00f5\n",
            "Got :  bh4wzu\n",
            "Got :  b4rc29\n",
            "Got :  cwar41\n",
            "Got :  cwcics\n",
            "Got :  cgpq9z\n",
            "Got :  bqxmim\n",
            "Got :  cl1175\n",
            "Got :  cwhnhn\n",
            "Got :  cstt28\n",
            "Got :  d18xy2\n",
            "Got :  cihds4\n",
            "Got :  crmk0e\n",
            "Got :  crnxz9\n",
            "Got :  bo2rdq\n",
            "Got :  bx5zig\n",
            "Got :  ch3cdi\n",
            "Got :  cvkjiy\n",
            "Got :  chyqzx\n",
            "Got :  c6y90x\n",
            "Got :  cy15ta\n",
            "Got :  c572nt\n",
            "Got :  clt4dw\n",
            "Got :  bk1565\n",
            "Got :  ciecjf\n",
            "Got :  cqh2k6\n",
            "Got :  cth140\n",
            "Got :  as91rq\n",
            "Got :  cnxzl2\n",
            "Got :  cqojs7\n",
            "Got :  bw73ah\n",
            "Got :  b62nbk\n",
            "Got :  cnhmjn\n",
            "Got :  bc9gtn\n",
            "Got :  clfocb\n",
            "Got :  bc4f9j\n",
            "Got :  c94l0j\n",
            "Got :  c3fag2\n",
            "Got :  c2thss\n",
            "Got :  b9tdhi\n",
            "Got :  b2vm14\n",
            "Got :  bgk32i\n",
            "Got :  cupa49\n",
            "Got :  c0qmz9\n",
            "Got :  cubeqs\n",
            "Got :  cjo0q0\n",
            "Got :  btuinw\n",
            "Got :  bnzfpt\n",
            "Got :  c8k2u0\n",
            "Got :  c6vl8g\n",
            "Got :  bgh0h2\n",
            "Got :  bwoybc\n",
            "Got :  c6vlze\n",
            "Got :  bmt5he\n",
            "Got :  c790hu\n",
            "Got :  bscz61\n",
            "Got :  cp763j\n",
            "Got :  chm53c\n",
            "Got :  bz5q6a\n",
            "Got :  by4aok\n",
            "Got :  bpawn0\n",
            "Got :  bbxmz3\n",
            "Got :  bt33o2\n",
            "Got :  ctu91h\n",
            "Got :  brlsv2\n",
            "Got :  bsq93a\n",
            "Got :  cvzt8k\n",
            "Got :  cfb9np\n",
            "Got :  cjo4w9\n",
            "Got :  bw7xdc\n",
            "Got :  cliprr\n",
            "Got :  ca4xkg\n",
            "Got :  cgo324\n",
            "Got :  cr5dbi\n",
            "Got :  bkgs0r\n",
            "Got :  bfaxy4\n",
            "Got :  cbu8d8\n",
            "Got :  bccel1\n",
            "Got :  bmi4hf\n",
            "Got :  b41uy7\n",
            "Got :  cbvg35\n",
            "Got :  bu9785\n",
            "Got :  b3mlkx\n",
            "Got :  by5ua6\n",
            "Got :  bkwizk\n",
            "Got :  bsk00s\n",
            "Got :  bzmafm\n",
            "Got :  bcxvfm\n",
            "Got :  bsq67r\n",
            "Got :  c60fb4\n",
            "Got :  cm6ebw\n",
            "Got :  btvdq7\n",
            "Got :  cafx9t\n",
            "Got :  b7mv55\n",
            "Got :  c3r04o\n",
            "Got :  c9rboo\n",
            "Got :  c89qtj\n",
            "Got :  bwl5o4\n",
            "Got :  cpu59g\n",
            "Got :  cak6lq\n",
            "Got :  bc8jar\n",
            "Got :  bc9uce\n",
            "Got :  b8vu6e\n",
            "Got :  cjs15k\n",
            "Got :  be3p8o\n",
            "Got :  c8u9qj\n",
            "Got :  c7g0ex\n",
            "Got :  bodoin\n",
            "Got :  c4hdfl\n",
            "Got :  cayhk9\n",
            "Got :  buvg6u\n",
            "Got :  anmf90\n",
            "Got :  bxarwt\n",
            "Got :  c9wtt9\n",
            "Got :  b5khfa\n",
            "Got :  cco8qn\n",
            "Got :  as8wwo\n",
            "Got :  cc8jvw\n",
            "Got :  cai47k\n",
            "Got :  cn7nmq\n",
            "Got :  c9bh0l\n",
            "Got :  b4ryyj\n",
            "Got :  bq3jop\n",
            "Got :  bktwxp\n",
            "Got :  bkgons\n",
            "Got :  b8ubm2\n",
            "Got :  bhmuhn\n",
            "Got :  b6daa4\n",
            "Got :  c8ori6\n",
            "Got :  cuavet\n",
            "Got :  cgbmgw\n",
            "Got :  cal7nr\n",
            "Got :  bj1st4\n",
            "Got :  bocdw4\n",
            "Got :  auz94b\n",
            "Got :  bf1inn\n",
            "Got :  audl2z\n",
            "Got :  cbu9ny\n",
            "Got :  cb0f4u\n",
            "Got :  ca1xdh\n",
            "Got :  bm5kes\n",
            "Got :  cs571g\n",
            "Got :  aql98m\n",
            "Got :  bzn3lo\n",
            "Got :  bqsetb\n",
            "Got :  bmtfzf\n",
            "Got :  btixwn\n",
            "Got :  bp5kcl\n",
            "Got :  bvuie1\n",
            "Got :  bkmigc\n",
            "Got :  b4u6bg\n",
            "Got :  axzibc\n",
            "Got :  b4ikov\n",
            "Got :  b8dh4s\n",
            "Got :  bq670i\n",
            "Got :  cnzwno\n",
            "Got :  aw2qdy\n",
            "Got :  bkwk4j\n",
            "Got :  bqgkcw\n",
            "Got :  c56nvx\n",
            "Got :  az67nb\n",
            "Got :  bk4eho\n",
            "Got :  agw5sk\n",
            "Got :  bqg0q8\n",
            "Got :  cn9uuj\n",
            "Got :  b5zcxi\n",
            "Got :  bthwkc\n",
            "Got :  bxiedb\n",
            "Got :  bkthb8\n",
            "Got :  bhk8kx\n",
            "Got :  bkvjui\n",
            "Got :  affe31\n"
          ],
          "name": "stdout"
        }
      ]
    },
    {
      "cell_type": "code",
      "metadata": {
        "id": "RiTQQwDpc2yi",
        "colab_type": "code",
        "outputId": "0e56d9e9-e2bd-4090-d342-bbad39da4dde",
        "colab": {
          "base_uri": "https://localhost:8080/",
          "height": 34
        }
      },
      "source": [
        "len(topics_dict[\"flair\"])"
      ],
      "execution_count": 7,
      "outputs": [
        {
          "output_type": "execute_result",
          "data": {
            "text/plain": [
              "248"
            ]
          },
          "metadata": {
            "tags": []
          },
          "execution_count": 7
        }
      ]
    },
    {
      "cell_type": "code",
      "metadata": {
        "id": "x84H0v4dfmdd",
        "colab_type": "code",
        "colab": {}
      },
      "source": [
        "topics_data = pd.DataFrame(topics_dict)"
      ],
      "execution_count": 0,
      "outputs": []
    },
    {
      "cell_type": "code",
      "metadata": {
        "id": "hTZMS0E1h4b7",
        "colab_type": "code",
        "outputId": "edc8d87e-693c-4c48-9a78-99c59f7a3471",
        "colab": {
          "base_uri": "https://localhost:8080/",
          "height": 272
        }
      },
      "source": [
        "topics_data.info()"
      ],
      "execution_count": 9,
      "outputs": [
        {
          "output_type": "stream",
          "text": [
            "<class 'pandas.core.frame.DataFrame'>\n",
            "RangeIndex: 248 entries, 0 to 247\n",
            "Data columns (total 10 columns):\n",
            "title        248 non-null object\n",
            "score        248 non-null int64\n",
            "id           248 non-null object\n",
            "url          248 non-null object\n",
            "comms_num    248 non-null int64\n",
            "created      248 non-null float64\n",
            "body         248 non-null object\n",
            "author       248 non-null object\n",
            "comments     248 non-null object\n",
            "flair        248 non-null object\n",
            "dtypes: float64(1), int64(2), object(7)\n",
            "memory usage: 19.5+ KB\n"
          ],
          "name": "stdout"
        }
      ]
    },
    {
      "cell_type": "code",
      "metadata": {
        "id": "8qgh8K0liAOC",
        "colab_type": "code",
        "colab": {}
      },
      "source": [
        "def get_date(created):\n",
        "    return dt.datetime.fromtimestamp(created)"
      ],
      "execution_count": 0,
      "outputs": []
    },
    {
      "cell_type": "code",
      "metadata": {
        "id": "XCP-sl3miLvw",
        "colab_type": "code",
        "colab": {}
      },
      "source": [
        "_timestamp = topics_data[\"created\"].apply(get_date)\n",
        "topics_data = topics_data.assign(timestamp = _timestamp)\n",
        "del topics_data['created']"
      ],
      "execution_count": 0,
      "outputs": []
    },
    {
      "cell_type": "code",
      "metadata": {
        "id": "3LemVVUizJDC",
        "colab_type": "code",
        "colab": {}
      },
      "source": [
        "topics_data.to_csv('random.csv', index=False) "
      ],
      "execution_count": 0,
      "outputs": []
    },
    {
      "cell_type": "code",
      "metadata": {
        "id": "HniDs12DiOUi",
        "colab_type": "code",
        "outputId": "2e617311-d542-4444-b072-61fe714b5a8b",
        "colab": {
          "base_uri": "https://localhost:8080/",
          "height": 272
        }
      },
      "source": [
        "topics_data.info()"
      ],
      "execution_count": 13,
      "outputs": [
        {
          "output_type": "stream",
          "text": [
            "<class 'pandas.core.frame.DataFrame'>\n",
            "RangeIndex: 248 entries, 0 to 247\n",
            "Data columns (total 10 columns):\n",
            "title        248 non-null object\n",
            "score        248 non-null int64\n",
            "id           248 non-null object\n",
            "url          248 non-null object\n",
            "comms_num    248 non-null int64\n",
            "body         248 non-null object\n",
            "author       248 non-null object\n",
            "comments     248 non-null object\n",
            "flair        248 non-null object\n",
            "timestamp    248 non-null datetime64[ns]\n",
            "dtypes: datetime64[ns](1), int64(2), object(7)\n",
            "memory usage: 19.5+ KB\n"
          ],
          "name": "stdout"
        }
      ]
    },
    {
      "cell_type": "code",
      "metadata": {
        "id": "hbqsapntiXK6",
        "colab_type": "code",
        "colab": {}
      },
      "source": [
        "from google.colab import files\n",
        "\n",
        "files.download(\"random.csv\")"
      ],
      "execution_count": 0,
      "outputs": []
    }
  ]
}